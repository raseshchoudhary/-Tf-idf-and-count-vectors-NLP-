{
 "cells": [
  {
   "cell_type": "markdown",
   "id": "dde5159e",
   "metadata": {},
   "source": [
    "# Assignment\n",
    "Here is some dummy text\n",
    "- 'This is an example text, i am going to write anything here, use this text as your example'\n",
    "- 'You can use this text to convert into vectors'\n",
    "- 'Do remember to clean up the text before you start any processing'\n",
    "- 'Once you are done converting the text into numbers(vectors), do a shinchan dance'\n",
    "\n",
    "# Question 1\n",
    "Write code that will convert these four sentences into count vectors.\n",
    "\n",
    "# Question 2\n",
    "Write code that will convert these four sentences into tf-idf vectors."
   ]
  },
  {
   "cell_type": "code",
   "execution_count": 1,
   "id": "8d388adf",
   "metadata": {},
   "outputs": [],
   "source": [
    "# I am writing some code as hints, feel free to solve it however you want\n",
    "from sklearn.feature_extraction.text import CountVectorizer\n",
    "from sklearn.feature_extraction.text import TfidfVectorizer"
   ]
  },
  {
   "cell_type": "markdown",
   "id": "f074d6f1",
   "metadata": {},
   "source": [
    "# These are the codes for the 1st question."
   ]
  },
  {
   "cell_type": "code",
   "execution_count": 11,
   "id": "f478f68b",
   "metadata": {},
   "outputs": [],
   "source": [
    "#initializing the vector.\n",
    "hi_vectorize = CountVectorizer()"
   ]
  },
  {
   "cell_type": "code",
   "execution_count": 12,
   "id": "4dc4dfdd",
   "metadata": {},
   "outputs": [
    {
     "data": {
      "text/plain": [
       "CountVectorizer()"
      ]
     },
     "execution_count": 12,
     "metadata": {},
     "output_type": "execute_result"
    }
   ],
   "source": [
    "hi_vectorize"
   ]
  },
  {
   "cell_type": "code",
   "execution_count": 13,
   "id": "3225dfbb",
   "metadata": {},
   "outputs": [
    {
     "data": {
      "text/plain": [
       "CountVectorizer()"
      ]
     },
     "execution_count": 13,
     "metadata": {},
     "output_type": "execute_result"
    }
   ],
   "source": [
    "hi_vectorize.fit(['This is an example text, i am going to write anything here, use this text as your example'\n",
    "'You can use this text to convert into vectors'\n",
    "'Do remember to clean up the text before you start any processing'\n",
    "'Once you are done converting the text into numbers(vectors), do a shinchan dance'])"
   ]
  },
  {
   "cell_type": "code",
   "execution_count": 14,
   "id": "da66c2c6",
   "metadata": {},
   "outputs": [
    {
     "data": {
      "text/plain": [
       "array(['am', 'an', 'any', 'anything', 'are', 'as', 'before', 'can',\n",
       "       'clean', 'convert', 'converting', 'dance', 'do', 'done', 'example',\n",
       "       'exampleyou', 'going', 'here', 'into', 'is', 'numbers',\n",
       "       'processingonce', 'remember', 'shinchan', 'start', 'text', 'the',\n",
       "       'this', 'to', 'up', 'use', 'vectors', 'vectorsdo', 'write', 'you',\n",
       "       'your'], dtype=object)"
      ]
     },
     "execution_count": 14,
     "metadata": {},
     "output_type": "execute_result"
    }
   ],
   "source": [
    "# getting all the vocabulary.\n",
    "hi_vectorize.get_feature_names_out()"
   ]
  },
  {
   "cell_type": "code",
   "execution_count": 15,
   "id": "fc4062d5",
   "metadata": {},
   "outputs": [],
   "source": [
    "i_m_vector = hi_vectorize.transform(['This is an example text, i am going to write anything here, use this text as your example'\n",
    "'You can use this text to convert into vectors'\n",
    "'Do remember to clean up the text before you start any processing'\n",
    "'Once you are done converting the text into numbers(vectors), do a shinchan dance'])"
   ]
  },
  {
   "cell_type": "code",
   "execution_count": 16,
   "id": "346c3712",
   "metadata": {},
   "outputs": [
    {
     "data": {
      "text/plain": [
       "<1x36 sparse matrix of type '<class 'numpy.int64'>'\n",
       "\twith 36 stored elements in Compressed Sparse Row format>"
      ]
     },
     "execution_count": 16,
     "metadata": {},
     "output_type": "execute_result"
    }
   ],
   "source": [
    "i_m_vector"
   ]
  },
  {
   "cell_type": "code",
   "execution_count": 20,
   "id": "c391dbc8",
   "metadata": {},
   "outputs": [
    {
     "data": {
      "text/plain": [
       "array([[1, 1, 1, 1, 1, 1, 1, 1, 1, 1, 1, 1, 1, 1, 1, 1, 1, 1, 2, 1, 1, 1,\n",
       "        1, 1, 1, 5, 2, 3, 3, 1, 2, 1, 1, 1, 2, 1]], dtype=int64)"
      ]
     },
     "execution_count": 20,
     "metadata": {},
     "output_type": "execute_result"
    }
   ],
   "source": [
    "#getting the count vector in the arrray form.\n",
    "i_m_vector.toarray()"
   ]
  },
  {
   "cell_type": "markdown",
   "id": "0ff2e89b",
   "metadata": {},
   "source": [
    "# These are the codes for the 2nd question"
   ]
  },
  {
   "cell_type": "code",
   "execution_count": 23,
   "id": "c650bc79",
   "metadata": {},
   "outputs": [],
   "source": [
    "hi_vectorize= TfidfVectorizer()"
   ]
  },
  {
   "cell_type": "code",
   "execution_count": 24,
   "id": "2afa4d29",
   "metadata": {},
   "outputs": [
    {
     "data": {
      "text/plain": [
       "TfidfVectorizer()"
      ]
     },
     "execution_count": 24,
     "metadata": {},
     "output_type": "execute_result"
    }
   ],
   "source": [
    "hi_vectorize.fit(['This is an example text, i am going to write anything here, use this text as your example'\n",
    "'You can use this text to convert into vectors'\n",
    "'Do remember to clean up the text before you start any processing'\n",
    "'Once you are done converting the text into numbers(vectors), do a shinchan dance'])"
   ]
  },
  {
   "cell_type": "code",
   "execution_count": 25,
   "id": "075e7666",
   "metadata": {},
   "outputs": [
    {
     "data": {
      "text/plain": [
       "array(['am', 'an', 'any', 'anything', 'are', 'as', 'before', 'can',\n",
       "       'clean', 'convert', 'converting', 'dance', 'do', 'done', 'example',\n",
       "       'exampleyou', 'going', 'here', 'into', 'is', 'numbers',\n",
       "       'processingonce', 'remember', 'shinchan', 'start', 'text', 'the',\n",
       "       'this', 'to', 'up', 'use', 'vectors', 'vectorsdo', 'write', 'you',\n",
       "       'your'], dtype=object)"
      ]
     },
     "execution_count": 25,
     "metadata": {},
     "output_type": "execute_result"
    }
   ],
   "source": [
    "# getting all the vocabulary \n",
    "hi_vectorize.get_feature_names_out()"
   ]
  },
  {
   "cell_type": "code",
   "execution_count": 26,
   "id": "cdd766e6",
   "metadata": {},
   "outputs": [],
   "source": [
    "i_m_vector = hi_vectorize.transform(['Whatever text we want','We give it as list'])"
   ]
  },
  {
   "cell_type": "code",
   "execution_count": 28,
   "id": "f689563f",
   "metadata": {},
   "outputs": [
    {
     "data": {
      "text/plain": [
       "array([[0., 0., 0., 0., 0., 0., 0., 0., 0., 0., 0., 0., 0., 0., 0., 0.,\n",
       "        0., 0., 0., 0., 0., 0., 0., 0., 0., 1., 0., 0., 0., 0., 0., 0.,\n",
       "        0., 0., 0., 0.],\n",
       "       [0., 0., 0., 0., 0., 1., 0., 0., 0., 0., 0., 0., 0., 0., 0., 0.,\n",
       "        0., 0., 0., 0., 0., 0., 0., 0., 0., 0., 0., 0., 0., 0., 0., 0.,\n",
       "        0., 0., 0., 0.]])"
      ]
     },
     "execution_count": 28,
     "metadata": {},
     "output_type": "execute_result"
    }
   ],
   "source": [
    "#getting the td-idf vector in the arry form\n",
    "i_m_vector.toarray()"
   ]
  }
 ],
 "metadata": {
  "kernelspec": {
   "display_name": "Python 3 (ipykernel)",
   "language": "python",
   "name": "python3"
  },
  "language_info": {
   "codemirror_mode": {
    "name": "ipython",
    "version": 3
   },
   "file_extension": ".py",
   "mimetype": "text/x-python",
   "name": "python",
   "nbconvert_exporter": "python",
   "pygments_lexer": "ipython3",
   "version": "3.9.13"
  }
 },
 "nbformat": 4,
 "nbformat_minor": 5
}
